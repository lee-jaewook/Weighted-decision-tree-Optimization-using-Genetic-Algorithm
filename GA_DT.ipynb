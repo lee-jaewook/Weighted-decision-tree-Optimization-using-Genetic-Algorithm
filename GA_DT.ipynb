{
 "cells": [
  {
   "cell_type": "markdown",
   "metadata": {},
   "source": [
    "# Genetic Algotihm in Decision Tree"
   ]
  },
  {
   "cell_type": "code",
   "execution_count": 1,
   "metadata": {},
   "outputs": [],
   "source": [
    "import numpy as np\n",
    "import pandas as pd\n",
    "import geneticDicisionTree\n",
    "from sklearn.tree import DecisionTreeClassifier"
   ]
  },
  {
   "cell_type": "code",
   "execution_count": 2,
   "metadata": {
    "scrolled": true
   },
   "outputs": [],
   "source": [
    "dataset = pd.read_csv('dataset\\ProjectK.csv')"
   ]
  },
  {
   "cell_type": "code",
   "execution_count": 3,
   "metadata": {},
   "outputs": [],
   "source": [
    "# Commit_age를 기준으로 정렬 및 인덱스 재설정\n",
    "s=dataset.sort_values(by=['commit_age'],ascending= True,axis=0)\n",
    "df2 = s.reset_index(drop=True)"
   ]
  },
  {
   "cell_type": "code",
   "execution_count": 4,
   "metadata": {},
   "outputs": [],
   "source": [
    "split_strandar_index = 941"
   ]
  },
  {
   "cell_type": "code",
   "execution_count": 5,
   "metadata": {},
   "outputs": [
    {
     "name": "stdout",
     "output_type": "stream",
     "text": [
      "False    764\n",
      "True     177\n",
      "Name: bug, dtype: int64\n",
      "False    1376\n",
      "True      198\n",
      "Name: bug, dtype: int64\n"
     ]
    }
   ],
   "source": [
    "df2_train = df2[:split_strandar_index]\n",
    "df2_test =df2[split_strandar_index:]\n",
    "print(df2_train['bug'].value_counts())\n",
    "print(df2_test['bug'].value_counts())"
   ]
  },
  {
   "cell_type": "code",
   "execution_count": 6,
   "metadata": {},
   "outputs": [
    {
     "data": {
      "text/plain": [
       "array([[ 1.04498079, -0.45024306, -0.35889597, ..., -2.53126456,\n",
       "        -4.00332634, -0.3793354 ],\n",
       "       [-0.49943213, -0.54318835, -0.59339254, ..., -2.53126456,\n",
       "        -2.2752163 , -0.3793354 ],\n",
       "       [ 1.81718724, -0.54633903, -0.59339254, ..., -2.53126456,\n",
       "        -1.54850555, -0.3793354 ],\n",
       "       ...,\n",
       "       [-0.49943213, -0.54318835, -0.59339254, ..., -1.43918145,\n",
       "        -0.35081822, -0.3793354 ],\n",
       "       [ 1.04498079, -0.55421575, -0.59339254, ..., -0.56551496,\n",
       "        -0.25337472, -0.3793354 ],\n",
       "       [-0.49943213, -0.32106487, -0.47614426, ..., -1.29357037,\n",
       "        -0.34975418,  2.63618948]])"
      ]
     },
     "execution_count": 6,
     "metadata": {},
     "output_type": "execute_result"
    }
   ],
   "source": [
    "from sklearn.preprocessing import StandardScaler\n",
    "scaler = StandardScaler()\n",
    "scaler.fit(df2_test)\n",
    "scaler.transform(df2_train)"
   ]
  },
  {
   "cell_type": "code",
   "execution_count": 7,
   "metadata": {},
   "outputs": [
    {
     "data": {
      "text/plain": [
       "(941, 12)"
      ]
     },
     "execution_count": 7,
     "metadata": {},
     "output_type": "execute_result"
    }
   ],
   "source": [
    "X_train = np.array(df2_train.loc[:,'author':'commitdate'])\n",
    "y_train = np.array(df2_train['bug'])\n",
    "\n",
    "X_test = np.array(df2_test.loc[:,'author':'commitdate'])\n",
    "y_test = np.array(df2_test['bug'])\n",
    "X_train.shape"
   ]
  },
  {
   "cell_type": "code",
   "execution_count": 8,
   "metadata": {},
   "outputs": [
    {
     "name": "stdout",
     "output_type": "stream",
     "text": [
      "(658, 12)\n",
      "(283, 12)\n"
     ]
    }
   ],
   "source": [
    "split_train_vali = int(X_train.shape[0]*0.7)\n",
    "X_g_train = X_train[:split_train_vali]\n",
    "X_g_vali = X_train[split_train_vali:]\n",
    "y_g_train = y_train[:split_train_vali]\n",
    "y_g_vali = y_train[split_train_vali:]\n",
    "print(X_g_train.shape)\n",
    "print(X_g_vali.shape)"
   ]
  },
  {
   "cell_type": "code",
   "execution_count": null,
   "metadata": {},
   "outputs": [
    {
     "name": "stdout",
     "output_type": "stream",
     "text": [
      "--------------------------1 번째 Train--------------------------\n",
      "Initilialize Poplulation------> Complete\n"
     ]
    },
    {
     "data": {
      "application/vnd.jupyter.widget-view+json": {
       "model_id": "5ad8fd1bf04f4995b0abf8db59101fc7",
       "version_major": 2,
       "version_minor": 0
      },
      "text/plain": [
       "HBox(children=(FloatProgress(value=0.0), HTML(value='')))"
      ]
     },
     "metadata": {},
     "output_type": "display_data"
    },
    {
     "name": "stdout",
     "output_type": "stream",
     "text": [
      "\n",
      "-------------------------------------------------------\n",
      "Best parameters are:\n",
      "criterion gini\n",
      "max_depth 14.0\n",
      "min_samples_split 2\n",
      "max_leaf_nodes 73.0\n",
      "random_state 990.0\n",
      "class_weight 0.08 0.96\n",
      "-------------------------------------------------------\n",
      "\n",
      "***1 번째 G_measure = 0.8444578417018345***\n",
      "\n",
      "              precision    recall  f1-score   support\n",
      "\n",
      "       False      0.988     0.770     0.866      1376\n",
      "        True      0.369     0.934     0.529       198\n",
      "\n",
      "    accuracy                          0.791      1574\n",
      "   macro avg      0.679     0.852     0.697      1574\n",
      "weighted avg      0.910     0.791     0.823      1574\n",
      "\n",
      "[[1060  316]\n",
      " [  13  185]]\n",
      "--------------------------2 번째 Train--------------------------\n",
      "Initilialize Poplulation------> Complete\n"
     ]
    },
    {
     "data": {
      "application/vnd.jupyter.widget-view+json": {
       "model_id": "e9f5d5cf195d4435aea311d433ed9739",
       "version_major": 2,
       "version_minor": 0
      },
      "text/plain": [
       "HBox(children=(FloatProgress(value=0.0), HTML(value='')))"
      ]
     },
     "metadata": {},
     "output_type": "display_data"
    },
    {
     "name": "stdout",
     "output_type": "stream",
     "text": [
      "\n",
      "-------------------------------------------------------\n",
      "Best parameters are:\n",
      "criterion gini\n",
      "max_depth 13.0\n",
      "min_samples_split 9\n",
      "max_leaf_nodes 105.0\n",
      "random_state 810.0\n",
      "class_weight 0.09 0.8\n",
      "-------------------------------------------------------\n",
      "\n",
      "***2 번째 G_measure = 0.7875980042765501***\n",
      "\n",
      "              precision    recall  f1-score   support\n",
      "\n",
      "       False      0.961     0.803     0.875      1376\n",
      "        True      0.361     0.773     0.492       198\n",
      "\n",
      "    accuracy                          0.799      1574\n",
      "   macro avg      0.661     0.788     0.683      1574\n",
      "weighted avg      0.885     0.799     0.827      1574\n",
      "\n",
      "[[2165  587]\n",
      " [  58  338]]\n",
      "--------------------------3 번째 Train--------------------------\n",
      "Initilialize Poplulation------> Complete\n"
     ]
    },
    {
     "data": {
      "application/vnd.jupyter.widget-view+json": {
       "model_id": "f49f9d2809604569988bbf01daf67e0c",
       "version_major": 2,
       "version_minor": 0
      },
      "text/plain": [
       "HBox(children=(FloatProgress(value=0.0), HTML(value='')))"
      ]
     },
     "metadata": {},
     "output_type": "display_data"
    }
   ],
   "source": [
    "import Implementation\n",
    "import g_measure\n",
    "import numpy as np\n",
    "from sklearn.metrics import accuracy_score, roc_auc_score, matthews_corrcoef, confusion_matrix, classification_report, f1_score\n",
    "from imblearn.over_sampling import SMOTE\n",
    "from sklearn.model_selection import train_test_split\n",
    "\n",
    "g_measure_score = []\n",
    "best_fitness=[]\n",
    "accuracy=[]\n",
    "best_gene= np.empty([7, 1])\n",
    "conf_matrix_list_of_arrays = []\n",
    "class_report_list_of_arrays = []\n",
    "roc_auc_score_list_of_arrays = []\n",
    "mcc_list_of_arrays = []\n",
    "cm = None\n",
    "y_predicted_overall = None\n",
    "y_test_overall = None  \n",
    "for i in range(10):\n",
    "    print('--------------------------%s 번째 Train--------------------------'%(i+1))\n",
    "    sm = SMOTE(random_state=42)\n",
    "    X_g_train, y_g_train = sm.fit_resample(X_g_train, y_g_train)\n",
    "    fitness, best_gene = Implementation.generation(X_train=X_g_train,\n",
    "                                                   X_vali=X_g_vali,\n",
    "                                                   y_train=y_g_train,\n",
    "                                                   y_vali=y_g_vali)\n",
    "        \n",
    "    balance = {True:best_gene[5],False:best_gene[6]}\n",
    "        \n",
    "    if best_gene[0]==0:\n",
    "            cr='gini'\n",
    "    else:\n",
    "            cr='entropy'\n",
    "            \n",
    "    clf = DecisionTreeClassifier(criterion=cr,\n",
    "                                max_depth=int(best_gene[1]),\n",
    "                                min_samples_split=int(best_gene[2]),\n",
    "                                max_leaf_nodes=int(best_gene[3]),\n",
    "                                random_state=int(best_gene[4]),\n",
    "                                class_weight=balance\n",
    "                                     )\n",
    "    X_train, y_train = sm.fit_resample(X_train, y_train)\n",
    "    clf.fit(X_train, y_train)\n",
    "    pred = clf.predict(X_test)\n",
    "        \n",
    "    clf_score = accuracy_score(pred, y_test)\n",
    "    accuracy.append(clf_score)\n",
    "    g_score = g_measure.score(y_test,pred)\n",
    "    print('\\n***%s 번째 G_measure = %s***\\n'%(i+1,g_score))\n",
    "    g_measure_score.append(g_score)\n",
    "    conf_matrix = confusion_matrix(y_test, pred)\n",
    "    conf_matrix_list_of_arrays.append(conf_matrix)\n",
    "    roc_auc = roc_auc_score(y_test, pred)\n",
    "    roc_auc_score_list_of_arrays.append(roc_auc)\n",
    "    mcc = matthews_corrcoef(y_test, pred)\n",
    "    mcc_list_of_arrays.append(mcc)\n",
    "    cv_cm = confusion_matrix(y_test, pred)\n",
    "    # sum the cv per fold\n",
    "    if cm is None:\n",
    "        cm = cv_cm\n",
    "    else:\n",
    "        cm += cv_cm\n",
    "    print(classification_report(y_test, pred, digits=3))\n",
    "    print(cm)\n",
    "\n",
    "\n",
    "print('Accuracy : ', accuracy)\n",
    "print('\\n')\n",
    "print('G-measure : ', g_measure_score)\n",
    "print('\\n')\n",
    "print('Mean G-measure : ', np.array(g_measure_score).mean())"
   ]
  },
  {
   "cell_type": "code",
   "execution_count": null,
   "metadata": {},
   "outputs": [],
   "source": []
  }
 ],
 "metadata": {
  "kernelspec": {
   "display_name": "Python 3",
   "language": "python",
   "name": "python3"
  },
  "language_info": {
   "codemirror_mode": {
    "name": "ipython",
    "version": 3
   },
   "file_extension": ".py",
   "mimetype": "text/x-python",
   "name": "python",
   "nbconvert_exporter": "python",
   "pygments_lexer": "ipython3",
   "version": "3.7.6"
  },
  "pycharm": {
   "stem_cell": {
    "cell_type": "raw",
    "metadata": {
     "collapsed": false
    },
    "source": []
   }
  }
 },
 "nbformat": 4,
 "nbformat_minor": 2
}
